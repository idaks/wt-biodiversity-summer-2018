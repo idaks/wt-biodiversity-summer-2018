{
 "cells": [
  {
   "cell_type": "code",
   "execution_count": null,
   "metadata": {
    "collapsed": true
   },
   "outputs": [],
   "source": [
    "#import the libaries we need to use\n",
    "\n",
    "import pandas as pd\n",
    "import matplotlib.pyplot as plt\n",
    "import numpy as np\n",
    "import datetime\n",
    "import us\n",
    "%matplotlib inline\n",
    "\n",
    "##  Import display \n",
    "from IPython.display import display\n",
    "\n",
    "\n",
    "### ipywidget libraries\n",
    "from ipywidgets import HBox, VBox, IntSlider, Play, jslink\n",
    "from ipywidgets import interact, interactive, fixed, interact_manual\n",
    "import ipywidgets as widgets\n",
    "\n",
    "### bqplot libraries\n",
    "import bqplot\n",
    "from bqplot import (\n",
    "    Axis, ColorAxis, LinearScale, DateScale, DateColorScale, OrdinalScale, Mercator, Orthographic,\n",
    "    OrdinalColorScale, ColorScale, Scatter, Lines, Figure, Tooltip, Map, ColorAxis, AlbersUSA, topo_load\n",
    ")\n",
    "\n",
    "### seaborn\n",
    "import seaborn as sns\n",
    "\n",
    "### basemap\n",
    "from mpl_toolkits.basemap import Basemap"
   ]
  },
  {
   "cell_type": "code",
   "execution_count": null,
   "metadata": {
    "collapsed": true
   },
   "outputs": [],
   "source": [
    "#d= dataset, t= taxonomy name\n",
    "def plotdata(d,t):\n",
    "    sns.lmplot( x=\"decimalLongitude\", y=\"decimalLatitude\", data=d, fit_reg=False, hue='scientificName', legend=False, size=10, aspect=1.5)\n",
    "    plt.legend(loc='lower right')\n",
    "    plt.title(t)\n",
    "    m=Basemap(llcrnrlat = 24.09,\n",
    "            llcrnrlon = -96.96,\n",
    "            urcrnrlat = 47.27,\n",
    "            urcrnrlon = -64.61)\n",
    "    m.drawmapboundary(fill_color='#A6CAE0', linewidth=0)\n",
    "    m.fillcontinents(color='grey', alpha=0.3)\n",
    "    m.drawcoastlines(linewidth=0.1, color=\"white\")\n",
    "    plt.savefig(t, bbox_inches='tight')"
   ]
  },
  {
   "cell_type": "code",
   "execution_count": null,
   "metadata": {
    "collapsed": true
   },
   "outputs": [],
   "source": [
    "d1=pd.read_csv(\"Magnolia/Dataset/geocoded/Magnolia_secWeakley2014_geocoded.csv\",error_bad_lines=False)\n",
    "d2=pd.read_csv(\"Magnolia/Dataset/geocoded/Magnolia_secChapman1883_geocoded.csv\",error_bad_lines=False)"
   ]
  },
  {
   "cell_type": "code",
   "execution_count": null,
   "metadata": {
    "collapsed": true
   },
   "outputs": [],
   "source": [
    "plotdata(d1,'Weakley 2014')\n",
    "plotdata(d2,'Chapman 1883')"
   ]
  },
  {
   "cell_type": "code",
   "execution_count": null,
   "metadata": {
    "collapsed": true
   },
   "outputs": [],
   "source": [
    "widgets.ToggleButtons(\n",
    "    options=['Weakley 2014','Chapman 1883','Cronquist 1991','FNA 1997'],\n",
    "    description='Taxonomy:',\n",
    "    disabled=False,\n",
    "    button_style='', # 'success', 'info', 'warning', 'danger' or ''\n",
    "    tooltips=['Description of taxonomy1', 'Description of taxonomy2', 'Description of taoxnomy3'])\n",
    "\n"
   ]
  },
  {
   "cell_type": "code",
   "execution_count": null,
   "metadata": {
    "collapsed": true
   },
   "outputs": [],
   "source": [
    "#creating a slider for interactive graph\n",
    "time = pd.Series(range(0,d2.shape[0]))\n",
    "#slider = interactive(get_time, interval=(time.min()+1, time.max()+1, 1))\n",
    "slider =  widgets.IntSlider(min=time.min(), max=time.max(), value=1500, description='Time(s):')\n",
    "slider.layout = {'min_width':'100%'}\n",
    "display(slider)"
   ]
  },
  {
   "cell_type": "code",
   "execution_count": null,
   "metadata": {
    "collapsed": true
   },
   "outputs": [],
   "source": [
    "from IPython.display import display, clear_output\n",
    "button = widgets.Button(description=\"Click Me!\")\n",
    "display(button)\n",
    "\n",
    "def on_button_clicked(b):\n",
    "    print(\"Button clicked.\")\n",
    "\n",
    "button.on_click(on_button_clicked)\n",
    "\n",
    "#def clicked(b):\n",
    "   # clear_output()\n",
    "   # print(\"Result of button click: \")\n",
    "\n",
    "#button.on_click(clicked)"
   ]
  },
  {
   "cell_type": "code",
   "execution_count": null,
   "metadata": {
    "collapsed": true
   },
   "outputs": [],
   "source": [
    "from IPython.display import display\n",
    "button = [widgets.Button(description=\"Weakley 2014\"),widgets.Button(description=\"Chapman 1883\")]\n",
    "display(button)\n",
    "\n",
    "def on_button_clicked(b):\n",
    "    print(plotdata(d1,'Weakley 2014'))\n",
    "\n",
    "button.on_click(on_button_clicked)"
   ]
  },
  {
   "cell_type": "code",
   "execution_count": null,
   "metadata": {
    "collapsed": true
   },
   "outputs": [],
   "source": [
    "#https://stackoverflow.com/questions/45507024/python-ipywidgets-passing-button-value-description-on-click-to-a-textarea-wid\n",
    "#testing adding button and textbox\n",
    "from ipywidgets import widgets as wd\n",
    "from ipywidgets import Layout, Box\n",
    "from IPython.display import display\n",
    "\n",
    "btnLayout = Layout(flex='1 1 auto', width='auto')\n",
    "\n",
    "btns= [\n",
    "    wd.Button(description=\"Weakley 2014\"),\n",
    "    wd.Button(description=\"Chapman 1883\")\n",
    "]\n",
    "\n",
    "box_layout = Layout(display='flex',\n",
    "                    flex_flow='row',\n",
    "                    align_items='stretch')\n",
    "\n",
    "box = Box(children=btns, layout=box_layout)\n",
    "\n",
    "display(box)\n",
    "#box.children[1].layout.visibility = 'hidden'\n",
    "#box.children[2].layout.visibility = 'hidden'\n",
    "\n",
    "#txtArea = wd.Textarea()\n",
    "#display(txtArea)\n",
    "\n",
    "def show(b):\n",
    "   if box.children[0] = plotdata(d1,\"Weakley 2014\")\n",
    "   # box.children[1] = plotdata(d2,\"Champan 1883\")\n",
    "#function intended to append button value/description to textArea\n",
    "#def add_text(b):\n",
    "    #txtArea.value = b.description + txtArea.value\n",
    "\n",
    "box.children[0].on_click(show)\n",
    "#box.children[1].on_click(add_text)\n",
    "#box.children[2].on_click(add_text)"
   ]
  },
  {
   "cell_type": "code",
   "execution_count": null,
   "metadata": {
    "collapsed": true
   },
   "outputs": [],
   "source": [
    "#https://stackoverflow.com/questions/34020789/ipywidgets-dropdown-widgets-what-is-the-onchange-event/40165257\n",
    "w = widgets.Dropdown(\n",
    "    options=['Addition', 'Multiplication', 'Subtraction'],\n",
    "    value='Addition',\n",
    "    description='Task:',\n",
    ")\n",
    "\n",
    "def on_change(change):\n",
    "    if change['type'] == 'change' and change['name'] == 'value':\n",
    "        print (\"changed to %s\" % change['new'])\n",
    "\n",
    "w.observe(on_change)\n",
    "\n",
    "display(w)"
   ]
  },
  {
   "cell_type": "code",
   "execution_count": null,
   "metadata": {
    "collapsed": true
   },
   "outputs": [],
   "source": [
    "#http://ipywidgets.readthedocs.io/en/stable/examples/Widget%20List.html#Button\n",
    "tab_contents = ['P0', 'P1', 'P2', 'P3', 'P4']\n",
    "children = [widgets.Text(description=name) for name in tab_contents]\n",
    "tab = widgets.Tab()\n",
    "tab.children = children\n",
    "for i in range(len(children)):\n",
    "    tab.set_title(i, str(i))\n",
    "tab"
   ]
  },
  {
   "cell_type": "code",
   "execution_count": null,
   "metadata": {
    "collapsed": true
   },
   "outputs": [],
   "source": [
    "#tab_contents = ['Weakley 2014', 'Chapman 1883']\n",
    "tab_contents = ['Weakley 2014', 'Chapman 1883']\n",
    "\n",
    "children = [widgets.Text(description=name) for name in tab_contents]\n",
    "tab = widgets.Tab()\n",
    "tab.children = children\n",
    "for i in range(len(children)):\n",
    "    tab.set_title(i, tab_contents[i])\n",
    "tab\n",
    "\n"
   ]
  }
 ],
 "metadata": {
  "kernelspec": {
   "display_name": "Python 3",
   "language": "python",
   "name": "python3"
  },
  "language_info": {
   "codemirror_mode": {
    "name": "ipython",
    "version": 3
   },
   "file_extension": ".py",
   "mimetype": "text/x-python",
   "name": "python",
   "nbconvert_exporter": "python",
   "pygments_lexer": "ipython3",
   "version": "3.6.3"
  }
 },
 "nbformat": 4,
 "nbformat_minor": 2
}
